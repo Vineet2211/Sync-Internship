{
 "cells": [
  {
   "cell_type": "code",
   "execution_count": null,
   "id": "84f07bb0",
   "metadata": {},
   "outputs": [
    {
     "name": "stdout",
     "output_type": "stream",
     "text": [
      "Enter Hour: 9\n",
      "Enter Min: 41\n",
      "am / pm: am\n",
      "Wake Up!!!!!!\n"
     ]
    }
   ],
   "source": [
    "import datetime\n",
    "from playsound import playsound\n",
    "\n",
    "alarmHour = int(input(\"Enter Hour: \"))\n",
    "alarmMin = int(input(\"Enter Min: \"))\n",
    "alarmAm = input(\"am / pm: \")\n",
    "\n",
    "if alarmAm == \"pm\":\n",
    "    alarmHour += 12\n",
    "\n",
    "while True:\n",
    "    now = datetime.datetime.now()\n",
    "    if alarmHour == now.hour and alarmMin == now.minute:\n",
    "        print(\"Wake Up!!!!!!\")\n",
    "        # for playing note.wav file\n",
    "        playsound('/Users/Dell/Downloads/Acarde.mp3')\n",
    "        break\n"
   ]
  },
  {
   "cell_type": "code",
   "execution_count": null,
   "id": "79e7baff",
   "metadata": {},
   "outputs": [],
   "source": []
  },
  {
   "cell_type": "code",
   "execution_count": null,
   "id": "464b2faa",
   "metadata": {},
   "outputs": [],
   "source": []
  }
 ],
 "metadata": {
  "kernelspec": {
   "display_name": "Python 3 (ipykernel)",
   "language": "python",
   "name": "python3"
  },
  "language_info": {
   "codemirror_mode": {
    "name": "ipython",
    "version": 3
   },
   "file_extension": ".py",
   "mimetype": "text/x-python",
   "name": "python",
   "nbconvert_exporter": "python",
   "pygments_lexer": "ipython3",
   "version": "3.9.13"
  }
 },
 "nbformat": 4,
 "nbformat_minor": 5
}
