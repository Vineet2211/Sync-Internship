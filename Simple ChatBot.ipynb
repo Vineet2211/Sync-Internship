{
 "cells": [
  {
   "cell_type": "code",
   "execution_count": null,
   "id": "433131bd",
   "metadata": {},
   "outputs": [],
   "source": []
  },
  {
   "cell_type": "code",
   "execution_count": null,
   "id": "608ea899",
   "metadata": {},
   "outputs": [
    {
     "name": "stdout",
     "output_type": "stream",
     "text": [
      "Hii\n",
      "Hey\n",
      "How are You\n",
      "I am Fine\n",
      "What is Current Time\n",
      "Thu Jun  8 09:33:31 2023\n"
     ]
    }
   ],
   "source": [
    "import time\n",
    "now=time.ctime()\n",
    "\n",
    "qna = {\n",
    "    \"Hii\":\"Hey\",\n",
    "    \"How are You\":\"I am Fine\",\n",
    "    \"What is Your Name\":\"My name is Jarvis\",\n",
    "    \"How old you are\": \"20 Years\",\n",
    "    \"What is Current Time\":now,\n",
    "}\n",
    "\n",
    "while True:\n",
    "    qs = input()\n",
    "    \n",
    "    if(qs==\"quit\"):\n",
    "        break\n",
    "        \n",
    "    else:\n",
    "        print(qna[qs])\n",
    "    "
   ]
  },
  {
   "cell_type": "code",
   "execution_count": null,
   "id": "351b6013",
   "metadata": {},
   "outputs": [],
   "source": []
  }
 ],
 "metadata": {
  "kernelspec": {
   "display_name": "Python 3 (ipykernel)",
   "language": "python",
   "name": "python3"
  },
  "language_info": {
   "codemirror_mode": {
    "name": "ipython",
    "version": 3
   },
   "file_extension": ".py",
   "mimetype": "text/x-python",
   "name": "python",
   "nbconvert_exporter": "python",
   "pygments_lexer": "ipython3",
   "version": "3.9.13"
  }
 },
 "nbformat": 4,
 "nbformat_minor": 5
}
