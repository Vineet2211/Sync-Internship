{
 "cells": [
  {
   "cell_type": "code",
   "execution_count": 1,
   "id": "6fd7da77",
   "metadata": {},
   "outputs": [],
   "source": [
    "import random\n",
    "import smtplib"
   ]
  },
  {
   "cell_type": "code",
   "execution_count": 2,
   "id": "59cb6d1a",
   "metadata": {},
   "outputs": [
    {
     "data": {
      "text/plain": [
       "(221,\n",
       " b'2.0.0 closing connection s10-20020a170902b18a00b001a95f632340sm7098042plr.46 - gsmtp')"
      ]
     },
     "execution_count": 2,
     "metadata": {},
     "output_type": "execute_result"
    }
   ],
   "source": [
    "server = smtplib.SMTP('smtp.gmail.com', 587)\n",
    "server.starttls()\n",
    "server.login('vineetp9793@gmail.com', 'prkwhuhtvrejysds')  # Replace 'YourAppPassword' with your actual password or an app password if enabled\n",
    "\n",
    "otp = ''.join([str(random.randint(0, 9)) for _ in range(4)])\n",
    "msg = 'Hello, your OTP is ' + str(otp)\n",
    "server.sendmail('vineetp9793@gmail.com', 'Vineet.Patel@adypu.edu.in', msg)\n",
    "server.quit()\n"
   ]
  },
  {
   "cell_type": "code",
   "execution_count": null,
   "id": "8ec06742",
   "metadata": {},
   "outputs": [],
   "source": []
  },
  {
   "cell_type": "code",
   "execution_count": null,
   "id": "8c1dff39",
   "metadata": {},
   "outputs": [],
   "source": []
  }
 ],
 "metadata": {
  "kernelspec": {
   "display_name": "Python 3 (ipykernel)",
   "language": "python",
   "name": "python3"
  },
  "language_info": {
   "codemirror_mode": {
    "name": "ipython",
    "version": 3
   },
   "file_extension": ".py",
   "mimetype": "text/x-python",
   "name": "python",
   "nbconvert_exporter": "python",
   "pygments_lexer": "ipython3",
   "version": "3.9.13"
  }
 },
 "nbformat": 4,
 "nbformat_minor": 5
}
