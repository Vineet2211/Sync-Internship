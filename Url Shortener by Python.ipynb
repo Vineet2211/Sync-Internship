{
 "cells": [
  {
   "cell_type": "code",
   "execution_count": 1,
   "id": "f00da668",
   "metadata": {},
   "outputs": [],
   "source": [
    "import pyshorteners"
   ]
  },
  {
   "cell_type": "code",
   "execution_count": 2,
   "id": "0ffc0db1",
   "metadata": {},
   "outputs": [
    {
     "name": "stdout",
     "output_type": "stream",
     "text": [
      "Enter the Link:http://localhost:8888/notebooks/Untitled.ipynb?kernel_name=python3\n"
     ]
    }
   ],
   "source": [
    "link = input(\"Enter the Link:\")"
   ]
  },
  {
   "cell_type": "code",
   "execution_count": 3,
   "id": "529368d8",
   "metadata": {},
   "outputs": [],
   "source": [
    "shortener = pyshorteners.Shortener()"
   ]
  },
  {
   "cell_type": "code",
   "execution_count": 4,
   "id": "c0e154f0",
   "metadata": {},
   "outputs": [],
   "source": [
    "x = shortener.tinyurl.short(link)"
   ]
  },
  {
   "cell_type": "code",
   "execution_count": 5,
   "id": "36bf5ac4",
   "metadata": {},
   "outputs": [
    {
     "name": "stdout",
     "output_type": "stream",
     "text": [
      "https://tinyurl.com/ycxmcgmn\n"
     ]
    }
   ],
   "source": [
    "print(x)"
   ]
  }
 ],
 "metadata": {
  "kernelspec": {
   "display_name": "Python 3 (ipykernel)",
   "language": "python",
   "name": "python3"
  },
  "language_info": {
   "codemirror_mode": {
    "name": "ipython",
    "version": 3
   },
   "file_extension": ".py",
   "mimetype": "text/x-python",
   "name": "python",
   "nbconvert_exporter": "python",
   "pygments_lexer": "ipython3",
   "version": "3.9.13"
  }
 },
 "nbformat": 4,
 "nbformat_minor": 5
}
